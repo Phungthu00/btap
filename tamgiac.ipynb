{
  "nbformat": 4,
  "nbformat_minor": 0,
  "metadata": {
    "colab": {
      "name": "tamgiac.ipynb",
      "provenance": [],
      "collapsed_sections": []
    },
    "kernelspec": {
      "name": "python3",
      "display_name": "Python 3"
    }
  },
  "cells": [
    {
      "cell_type": "markdown",
      "metadata": {
        "id": "lYmLRVEQcyYC"
      },
      "source": [
        "Hãy viết 1 chương trình “tamgiac.py” thực hiện các yêu cầu sau:\r\n",
        "\r\n",
        "input: Tọa độ của 3 điểm A, B, C ở hệ trục tọa độ Oxy theo format ở dạng list như sau: \r\n",
        "\r\n",
        "[Ax, Ay, Bx, By, Cx, Cy] (ví dụ: [1, 1, 2, 2, 3, 1])"
      ]
    },
    {
      "cell_type": "code",
      "metadata": {
        "colab": {
          "base_uri": "https://localhost:8080/"
        },
        "id": "seKROAnaYbuJ",
        "outputId": "0a06381a-d9ae-42ad-f418-7622bbdbd6fa"
      },
      "source": [
        "ax = int(input('ax = '))\r\n",
        "bx = int(input('bx = '))\r\n",
        "cx = int(input('cx = '))\r\n",
        "ay = int(input('ay = '))\r\n",
        "by = int(input('by = '))\r\n",
        "cy = int(input('cy = '))"
      ],
      "execution_count": 6,
      "outputs": [
        {
          "output_type": "stream",
          "text": [
            "ax = 1\n",
            "bx = 1\n",
            "cx = 4\n",
            "ay = 2\n",
            "by = 4\n",
            "cy = 6\n"
          ],
          "name": "stdout"
        }
      ]
    },
    {
      "cell_type": "markdown",
      "metadata": {
        "id": "BPqONP5Hc5TC"
      },
      "source": [
        "a. Viết hàm kiemtra_tamgiac(input) kiểm tra xem 3 điểm A, B, C có đủ điều kiện hợp thành tam giác ABC hay không.\r\n",
        "\r\n",
        "- Nếu đủ điều kiện, trả về “True”.\r\n",
        "\r\n",
        "- Nếu không đủ điều kiện, trả về “False”.\r\n",
        "\r\n",
        "Note: 3 điểm A, B, C hợp thành một tam giác trong hệ trục tọa độ Oxy nếu 3 điểm A, B, C không thẳng hang."
      ]
    },
    {
      "cell_type": "code",
      "metadata": {
        "colab": {
          "base_uri": "https://localhost:8080/"
        },
        "id": "FkPYludGc6NA",
        "outputId": "1278bde4-c1e8-46ea-bccd-abc8b88225e3"
      },
      "source": [
        "def kiemtra_tamgiac(ax,bx,cx,ay,by,cy):\r\n",
        "  D = bx - cx\r\n",
        "  Dx = by - cy\r\n",
        "  Dy = bx * cy - cx * by\r\n",
        "  if D == 0:\r\n",
        "    return False\r\n",
        "  else:\r\n",
        "    if ax * Dx / D + Dy / D == ay:\r\n",
        "      return False\r\n",
        "    else:\r\n",
        "      return True\r\n",
        "print(kiemtra_tamgiac(ax,bx,cx,ay,by,cy))"
      ],
      "execution_count": 7,
      "outputs": [
        {
          "output_type": "stream",
          "text": [
            "True\n"
          ],
          "name": "stdout"
        }
      ]
    },
    {
      "cell_type": "markdown",
      "metadata": {
        "id": "jT87n9Fc1KN3"
      },
      "source": [
        "b. Viết hàm goccanh_tamgiac(input) tính toán các cạnh và góc của tam giác ABC:\r\n",
        "\r\n",
        "- Tính toán các cạnh và số đo các góc của tam giác ABC, kết quả trả về là một list với độ dài các cạnh theo thứ tự [AB, BC, CA, góc A, góc B, góc C].\r\n",
        "\r\n",
        "- Kết quả các cạnh và góc làm tròn kết quả đến chữ số thập phân thứ 2. "
      ]
    },
    {
      "cell_type": "code",
      "metadata": {
        "colab": {
          "base_uri": "https://localhost:8080/"
        },
        "id": "yKsTfpbS1kO7",
        "outputId": "5e1636b6-65f0-4a38-b925-d27fbdaef85f"
      },
      "source": [
        "import math\r\n",
        "abx = bx - ax\r\n",
        "aby = by - ay\r\n",
        "acx = cx - ax\r\n",
        "acy = cy - ay\r\n",
        "bcx = cx - bx\r\n",
        "bcy = cy - by\r\n",
        "AB = math.sqrt(abx**2 + aby**2)\r\n",
        "AC = math.sqrt(acx**2 + acy**2)\r\n",
        "BC = math.sqrt(bcx**2 + bcy**2)\r\n",
        "gocA = math.degrees(math.acos((abx*acx + aby*acy)/(AB*AC)))\r\n",
        "gocB = math.degrees(math.acos((bcx*(-abx) + bcy*(-aby))/(BC*AB)))\r\n",
        "gocC = math.degrees(math.acos((acx*bcx + acy*bcy)/(AC*BC)))\r\n",
        "\r\n",
        "def goccanh_tamgiac(ax,bx,cx,ay,by,cy):\r\n",
        "  return [round(i,2) for i in [AB,BC,AC,gocA,gocB,gocC]]\r\n",
        "\r\n",
        "print(goccanh_tamgiac(ax, bx, cx, ay, by, cy))"
      ],
      "execution_count": 9,
      "outputs": [
        {
          "output_type": "stream",
          "text": [
            "[2.0, 3.61, 5.0, 36.87, 123.69, 19.44]\n"
          ],
          "name": "stdout"
        }
      ]
    },
    {
      "cell_type": "markdown",
      "metadata": {
        "id": "kyNT9EPVGuDZ"
      },
      "source": [
        "c. Viết hàm xet_tamgiac(input) xét xem tam giác ABC thuộc loại tam giác nào:\r\n",
        "\r\n",
        "- Xét xem tam giác ABC là tam giác vuông, tam giác nhọn hay tam giác tù, tại đỉnh nào.\r\n",
        "\r\n",
        "- Xét xem tam giác ABC là tam giác bình thường, tam giác cân hay tam giác đều, tại đỉnh nào.\r\n",
        "\r\n",
        " Trả về kết quả:\r\n",
        "\r\n",
        "o Nếu là tam giác vuông cân thì trả về kết quả: “ABC la tam giac vuong can tai dinh A(B/C)”.\r\n",
        "\r\n",
        "o Nếu là tam giác đều thì trả về kết quả: “ABC là tam giac deu”.\r\n",
        "\r\n",
        "o Nếu là tam giác tù và cân thì trả về kết quả: “ABC la tam giac tu va can tai dinh A/B/C”.\r\n",
        "\r\n",
        "o Nếu là tam giác nhọn và cân thì trả về kết quả: “ABC là tam giac can tai dinh A/B/C”.\r\n",
        "\r\n",
        "o Nếu không phải là tam giác vuông cân, tam giác đều hay tam giác tù và cân, trả về kết quả: “ABC la tam giac vuong(nhon/tu) tai dinh A(B/C) va la tam giac can(vuong/binh thuong)”."
      ]
    },
    {
      "cell_type": "code",
      "metadata": {
        "id": "ATuQ40-zGvef",
        "colab": {
          "base_uri": "https://localhost:8080/"
        },
        "outputId": "7baee6c5-ea06-4331-dd3c-6bcc0b1750a7"
      },
      "source": [
        "def xet_tamgiac(AB,BC,AC,gocA,gocB,gocC):\r\n",
        "  if AB == AC and AB == BC:\r\n",
        "    return print('ABC là tam giac deu')\r\n",
        "  elif AB == AC:\r\n",
        "    if gocA == 90:\r\n",
        "      return print('ABC la tam giac vuong can tai dinh A')\r\n",
        "    elif gocA < 90:\r\n",
        "      return print('ABC là tam giac can tai dinh A')\r\n",
        "    else:\r\n",
        "      return print('ABC la tam giac tu va can tai dinh A')\r\n",
        "  elif AB == BC:\r\n",
        "    if gocB == 90:\r\n",
        "      return print('ABC la tam giac vuong can tai dinh B')\r\n",
        "    elif gocB < 90:\r\n",
        "      return print('ABC là tam giac can tai dinh B')\r\n",
        "    else:\r\n",
        "      return print('ABC la tam giac tu va can tai dinh B')\r\n",
        "  elif BC == AC:\r\n",
        "    if gocC == 90:\r\n",
        "      return print('ABC la tam giac vuong can tai dinh C')\r\n",
        "    elif gocC < 90:\r\n",
        "      return print('ABC là tam giac can tai dinh C')\r\n",
        "    else:\r\n",
        "      return print('ABC la tam giac tu va can tai dinh C')\r\n",
        "  else:\r\n",
        "    if gocA == 90:\r\n",
        "      return print('ABC la tam giac vuong tai dinh A')\r\n",
        "    elif gocB == 90:\r\n",
        "      return print('ABC la tam giac vuong tai dinh B')\r\n",
        "    elif gocC == 90:\r\n",
        "      return print('ABC la tam giac vuong tai dinh C')\r\n",
        "    elif gocA > 90:\r\n",
        "      return print('ABC la tam giac tu tai dinh A')\r\n",
        "    elif gocB > 90:\r\n",
        "      return print('ABC la tam giac tu tai dinh B')\r\n",
        "    elif gocC > 90:\r\n",
        "      return print('ABC la tam giac tu tai dinh C')\r\n",
        "    else:\r\n",
        "      return print('ABC la tam giac nhon')\r\n",
        "print(xet_tamgiac(AB,BC,AC,gocA,gocB,gocC))    "
      ],
      "execution_count": 10,
      "outputs": [
        {
          "output_type": "stream",
          "text": [
            "ABC la tam giac tu tai dinh B\n",
            "None\n"
          ],
          "name": "stdout"
        }
      ]
    },
    {
      "cell_type": "markdown",
      "metadata": {
        "id": "AM3wanbPwble"
      },
      "source": [
        "d. Viết hàm dientich_tamgiac(input) để tính diện tích của tam giác ABC.\r\n",
        "\r\n",
        "- Trả về diện tích của tam giác ABC, kết quả được làm tròn đến chữ số thập phân thứ 2."
      ]
    },
    {
      "cell_type": "code",
      "metadata": {
        "colab": {
          "base_uri": "https://localhost:8080/"
        },
        "id": "atNHzJd7wcjF",
        "outputId": "81c0fc6a-625a-4644-e525-c658dd8a9e4d"
      },
      "source": [
        "def dientich_tamgiac(AB,AC,gocA):\r\n",
        "  return round(0.5*AB*AC*math.sin(math.radians(gocA)),2)\r\n",
        "print(dientich_tamgiac(AB,AC,gocA))  "
      ],
      "execution_count": 11,
      "outputs": [
        {
          "output_type": "stream",
          "text": [
            "3.0\n"
          ],
          "name": "stdout"
        }
      ]
    },
    {
      "cell_type": "markdown",
      "metadata": {
        "id": "5nUed5H6zaK4"
      },
      "source": [
        "e. Viết hàm duongcao_tamgiac(input) để tính độ dài của các đường cao của tam giác ABC:\r\n",
        "\r\n",
        "- Trả về độ dài 3 đường cao của tam giác ABC xuất phát từ các đỉnh A, B và C theo dạng list [dcA, dcB. dcC], kết quả được làm tròn đến chữ số thập phân thứ 2."
      ]
    },
    {
      "cell_type": "code",
      "metadata": {
        "colab": {
          "base_uri": "https://localhost:8080/"
        },
        "id": "Uv-qaNLzzbG7",
        "outputId": "bde4b374-7426-4898-b497-68392a0bf27c"
      },
      "source": [
        "def duongcao_tamgiac(AB,AC,BC):\r\n",
        "  p = (AB + AC + BC)/2\r\n",
        "  dcA = 2/BC*math.sqrt(p*(p - BC)*(p-AC)*(p-AB))\r\n",
        "  dcB = 2/AC*math.sqrt(p*(p - BC)*(p-AC)*(p-AB))\r\n",
        "  dcC = 2/AB*math.sqrt(p*(p - BC)*(p-AC)*(p-AB))\r\n",
        "  return [round(i,2) for i in [dcA,dcB,dcC]]\r\n",
        "print(duongcao_tamgiac(AB,AC,BC))"
      ],
      "execution_count": 12,
      "outputs": [
        {
          "output_type": "stream",
          "text": [
            "[1.66, 1.2, 3.0]\n"
          ],
          "name": "stdout"
        }
      ]
    },
    {
      "cell_type": "markdown",
      "metadata": {
        "id": "qw5XjA3K6JPL"
      },
      "source": [
        "f. Viết hàm trungtuyen_tamgiac(input) để tính độ dài từ các đỉnh A, B, C đến trọng tâm của tam giác ABC:\r\n",
        "\r\n",
        "- Trả về độ dài từ các đỉnh A, B, C đến trọng tâm của tam giác ABC theo dạng list [ttA, ttB, ttC], kết quả được làm tròn đến chữ số thập phân thứ 2."
      ]
    },
    {
      "cell_type": "code",
      "metadata": {
        "colab": {
          "base_uri": "https://localhost:8080/"
        },
        "id": "k4-vu0eW6KMT",
        "outputId": "c7136868-4ead-466f-8bc2-780083009e51"
      },
      "source": [
        "gx = (ax + bx + cx)/3\r\n",
        "gy = (ay + by + cy)/3\r\n",
        "def trungtuyen_tamgiac(ax,bx,cx,gx,ay,by,cy,gy):\r\n",
        "  ttA = math.sqrt((ax - gx)**2 + (ay - gy)**2)\r\n",
        "  ttB = math.sqrt((bx - gx)**2 + (by - gy)**2)\r\n",
        "  ttC = math.sqrt((cx - gx)**2 + (cy - gy)**2)\r\n",
        "  return [round(i,2) for i in [ttA,ttB,ttC]]\r\n",
        "print(trungtuyen_tamgiac(ax,bx,cx,gx,ay,by,cy,gy))"
      ],
      "execution_count": 13,
      "outputs": [
        {
          "output_type": "stream",
          "text": [
            "[2.24, 1.0, 2.83]\n"
          ],
          "name": "stdout"
        }
      ]
    },
    {
      "cell_type": "markdown",
      "metadata": {
        "id": "pMoTcUM58pAf"
      },
      "source": [
        "g. (Yêu cầu nâng cao) Viết hàm tam_tamgiac(input) trả về tọa độ của trọng tâm và trực tâm của tam giác ABC.\r\n",
        "\r\n",
        "-  Trả về tọa độ của trọng tâm và trực tâm của tam giác ABC ở dạng list theo thứ tự sau: [trongtam_x, trongtam_y, tructam_x, tructam_y]"
      ]
    },
    {
      "cell_type": "code",
      "metadata": {
        "colab": {
          "base_uri": "https://localhost:8080/"
        },
        "id": "KGsVTY138qGG",
        "outputId": "ee25b6c6-7c9c-4423-a406-371b12655bf8"
      },
      "source": [
        "def tam_tamgiac(ax,bx,cx,gx,ay,by,cy,gy):\r\n",
        "  D = (cx - bx)*(cy - ay) - (cx - ax)*(cy - by)\r\n",
        "  Dx = ((cx - bx)*ax + (cy - by)*ay)*(cy - ay) - ((cx - ax)*bx + (cy - ay)*by)*(cy - by)\r\n",
        "  Dy = ((cx - ax)*bx + (cy - ay)*by)*(cx - bx) - ((cx - bx)*ax + (cy - by)*ay)*(cx - ax)\r\n",
        "  hx = Dx/D\r\n",
        "  hy = Dy/D\r\n",
        "  return [round(i,2) for i in [gx,gy,hx,hy]]\r\n",
        "print(tam_tamgiac(ax,bx,cx,gx,ay,by,cy,gy))"
      ],
      "execution_count": 14,
      "outputs": [
        {
          "output_type": "stream",
          "text": [
            "[2.0, 4.0, -1.67, 6.0]\n"
          ],
          "name": "stdout"
        }
      ]
    },
    {
      "cell_type": "markdown",
      "metadata": {
        "id": "q29ydvk3I_j6"
      },
      "source": [
        "h. Viết hàm giaima_tamgiac(input) trả về tất cả các kết quả ở trên theo thứ tự sau:\r\n",
        "\r\n",
        "- Check 3 điểm A, B, C có tạo thành 1 tam giác hay không sử dụng hàm kiemtra_tamgiac(input):\r\n",
        "\r\n",
        "+ Nếu đủ điều kiện, trả về đoạn text: “A, B, C hop thanh mot tam giac” và tiếp tục chương trình.\r\n",
        "\r\n",
        "+ Nếu không đủ điều kiện, trả về đoạn text: “A, B, C khong hop thanh mot tam giac” và kết thúc chương trình.\r\n",
        "\r\n",
        "- Trả về độ dài các cạnh và góc của tam giác ABC sử dụng hàm goccanh_tamgiac(input). Kết quả trả về là các đoạn text ở format sau:\r\n",
        "\r\n",
        "+ “1. So do co ban cua tam giac:”\r\n",
        "\r\n",
        " “Chieu dai canh AB: AB” (Cần thay AB ở cuối bằng độ dài của cạnh AB).\r\n",
        "\r\n",
        " “Chieu dai canh BC: BC” (Cần thay BC ở cuối độ dài của cạnh BC).\r\n",
        "\r\n",
        " “Chieu dai canh CA: CA” (Cần thay CA ở cuối độ dài của cạnh BC).\r\n",
        "\r\n",
        " “ Goc A: BAC” (Cần thay BAC ở cuối bằng độ lớn của góc A).\r\n",
        "\r\n",
        "“ Goc B: ABC” (Cần thay ABC ở cuối bằng độ lớn của góc B).\r\n",
        "\r\n",
        "“ Goc C: BCA” (Cần thay BCA ở cuối bằng độ lớn của góc C).\r\n",
        "\r\n",
        "- Trả về tính chất của tam giác ABC sử dụng hàm xet_tamgiac(input), kết quả trả về giống hệt với output của hàm.\r\n",
        "\r\n",
        "- Trả về diện tích của tam giác ABC sử dụng hàm dientich_tamgiac(input), kết quả trả về là đoạn text ở format sau:\r\n",
        "\r\n",
        "+ “2. Dien tich cua tam giac ABC: SABC” (Cần thay SABC bằng diện tích của tam giác ABC).\r\n",
        "\r\n",
        "- Trả về độ dài các đường cao và khoảng cách từ 3 điểm A, B, C đến trọng tâm của tam giác sử dụng các hàm duongcao_tamgiac(input) và trungtuyen_tamgiac(input). Kết quả trả về là các đoạn text ở format sau:\r\n",
        "\r\n",
        "+ “3. So do nang cao tam giac ABC:”\r\n",
        "\r\n",
        " “ Do dai duong cao tu dinh A: hA” (Thay hA bằng độ đài đường cao từ A).\r\n",
        "\r\n",
        " “ Do dai duong cao tu dinh B: hB” (Thay hB bằng độ đài đường cao từ B).\r\n",
        "\r\n",
        " “ Do dai duong cao tu dinh C: hC” (Thay hC bằng độ đài đường cao từ C).\r\n",
        "\r\n",
        " “ Khoang cach den trong tam tu dinh A: tA” (Thay tA bằng độ đài đến trọng tâm từ A).\r\n",
        "\r\n",
        " “ Khoang cach den trong tam tu dinh B: tB” (Thay tB bằng độ đài đến trọng tâm từ B).\r\n",
        "\r\n",
        " “ Khoang cach den trong tam tu dinh C: tC” (Thay tC bằng độ đài đến trọng tâm từ C).\r\n",
        "\r\n",
        "- Trả về tọa độ của trọng tâm và trực tâm của tam giác ABC sử dụng hàm tam_tamgiac(input). Kết quả trả về là các đoạn text ở format sau:\r\n",
        "\r\n",
        "+ “4. Toa do mot so diem dac biet cua tam giac ABC:”\r\n",
        "\r\n",
        " “Toa do trong tam: [x_trongtam, y_tructam]” (thay [x_trongtam, y_trong tam] bằng tòa độ của trọng tâm tam giác ABC).\r\n",
        "\r\n",
        " “Toa do truc tam: [x_tructam, y_tructam]” (thay [x_tructam, y_tructam] bằng tòa độ của trực tâm tam giác ABC)."
      ]
    },
    {
      "cell_type": "code",
      "metadata": {
        "colab": {
          "base_uri": "https://localhost:8080/"
        },
        "id": "Ldw7QSqdJEKT",
        "outputId": "263a0650-e554-4fba-b923-9e25fb9227a5"
      },
      "source": [
        "def giaima_tamgiac():\r\n",
        "  if kiemtra_tamgiac(ax,bx,cx,ay,by,cy) != True:\r\n",
        "    print('A, B, C khong hop thanh mot tam giac')\r\n",
        "  else:\r\n",
        "    print('A, B, C hop thanh mot tam giac')\r\n",
        "    print('1. So do co ban cua tam giac:')\r\n",
        "    print('Chieu dai canh AB:',goccanh_tamgiac(ax,bx,cx,ay,by,cy)[0])\r\n",
        "    print('Chieu dai canh BC:',goccanh_tamgiac(ax,bx,cx,ay,by,cy)[1])\r\n",
        "    print('Chieu dai canh CA:',goccanh_tamgiac(ax,bx,cx,ay,by,cy)[2])\r\n",
        "    print('Goc A:',goccanh_tamgiac(ax,bx,cx,ay,by,cy)[3])\r\n",
        "    print('Goc B:',goccanh_tamgiac(ax,bx,cx,ay,by,cy)[4])\r\n",
        "    print('Goc C:',goccanh_tamgiac(ax,bx,cx,ay,by,cy)[5])\r\n",
        "    print(xet_tamgiac(AB,BC,AC,gocA,gocB,gocC))\r\n",
        "    print('2. Dien tich cua tam giac ABC: SABC',dientich_tamgiac(AB,AC,gocA))\r\n",
        "    print('3. So do nang cao tam giac ABC:')\r\n",
        "    print('Do dai duong cao tu dinh A:',duongcao_tamgiac(AB,AC,BC)[0])\r\n",
        "    print('Do dai duong cao tu dinh B:',duongcao_tamgiac(AB,AC,BC)[1])\r\n",
        "    print('Do dai duong cao tu dinh C:',duongcao_tamgiac(AB,AC,BC)[2])\r\n",
        "    print(' Khoang cach den trong tam tu dinh A',trungtuyen_tamgiac(ax,bx,cx,gx,ay,by,cy,gy)[0])\r\n",
        "    print(' Khoang cach den trong tam tu dinh B',trungtuyen_tamgiac(ax,bx,cx,gx,ay,by,cy,gy)[1])\r\n",
        "    print(' Khoang cach den trong tam tu dinh C',trungtuyen_tamgiac(ax,bx,cx,gx,ay,by,cy,gy)[2])\r\n",
        "    print('4. Toa do mot so diem dac biet cua tam giac ABC:')\r\n",
        "    print('Toa do trong tam:',[tam_tamgiac(ax,bx,cx,gx,ay,by,cy,gy)[0],tam_tamgiac(ax,bx,cx,gx,ay,by,cy,gy)[1]])\r\n",
        "    print('Toa do truc tam:',[tam_tamgiac(ax,bx,cx,gx,ay,by,cy,gy)[2],tam_tamgiac(ax,bx,cx,gx,ay,by,cy,gy)[3]])\r\n",
        "print(giaima_tamgiac())"
      ],
      "execution_count": 15,
      "outputs": [
        {
          "output_type": "stream",
          "text": [
            "A, B, C hop thanh mot tam giac\n",
            "1. So do co ban cua tam giac:\n",
            "Chieu dai canh AB: 2.0\n",
            "Chieu dai canh BC: 3.61\n",
            "Chieu dai canh CA: 5.0\n",
            "Goc A: 36.87\n",
            "Goc B: 123.69\n",
            "Goc C: 19.44\n",
            "ABC la tam giac tu tai dinh B\n",
            "None\n",
            "2. Dien tich cua tam giac ABC: SABC 3.0\n",
            "3. So do nang cao tam giac ABC:\n",
            "Do dai duong cao tu dinh A: 1.66\n",
            "Do dai duong cao tu dinh B: 1.2\n",
            "Do dai duong cao tu dinh C: 3.0\n",
            " Khoang cach den trong tam tu dinh A 2.24\n",
            " Khoang cach den trong tam tu dinh B 1.0\n",
            " Khoang cach den trong tam tu dinh C 2.83\n",
            "4. Toa do mot so diem dac biet cua tam giac ABC:\n",
            "Toa do trong tam: [2.0, 4.0]\n",
            "Toa do truc tam: [-1.67, 6.0]\n",
            "None\n"
          ],
          "name": "stdout"
        }
      ]
    }
  ]
}